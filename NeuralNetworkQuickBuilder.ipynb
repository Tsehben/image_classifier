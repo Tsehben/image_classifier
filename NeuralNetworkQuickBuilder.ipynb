{
 "cells": [
  {
   "cell_type": "markdown",
   "id": "d0127784-79d5-49ec-94dc-0bdb2bfb4538",
   "metadata": {},
   "source": [
    "# Neural Network Quick Build\n"
   ]
  },
  {
   "cell_type": "markdown",
   "id": "4281efb7-3f6e-421e-85a3-a252369c30c2",
   "metadata": {},
   "source": [
    "## 1. Imports"
   ]
  },
  {
   "cell_type": "code",
   "execution_count": 2,
   "id": "dce70eb3",
   "metadata": {},
   "outputs": [
    {
     "ename": "ModuleNotFoundError",
     "evalue": "No module named 'matplotlib'",
     "output_type": "error",
     "traceback": [
      "\u001b[0;31m---------------------------------------------------------------------------\u001b[0m",
      "\u001b[0;31mModuleNotFoundError\u001b[0m                       Traceback (most recent call last)",
      "Cell \u001b[0;32mIn[2], line 1\u001b[0m\n\u001b[0;32m----> 1\u001b[0m \u001b[38;5;28;01mimport\u001b[39;00m \u001b[38;5;21;01mmatplotlib\u001b[39;00m\u001b[38;5;21;01m.\u001b[39;00m\u001b[38;5;21;01mpyplot\u001b[39;00m \u001b[38;5;28;01mas\u001b[39;00m \u001b[38;5;21;01mplt\u001b[39;00m\n\u001b[1;32m      2\u001b[0m \u001b[38;5;28;01mfrom\u001b[39;00m \u001b[38;5;21;01mPIL\u001b[39;00m \u001b[38;5;28;01mimport\u001b[39;00m Image\n\u001b[1;32m      3\u001b[0m \u001b[38;5;28;01mimport\u001b[39;00m \u001b[38;5;21;01mnumpy\u001b[39;00m \u001b[38;5;28;01mas\u001b[39;00m \u001b[38;5;21;01mnp\u001b[39;00m\n",
      "\u001b[0;31mModuleNotFoundError\u001b[0m: No module named 'matplotlib'"
     ]
    }
   ],
   "source": [
    "import matplotlib.pyplot as plt\n",
    "from PIL import Image\n",
    "import numpy as np"
   ]
  },
  {
   "cell_type": "markdown",
   "id": "70cf7ba8-5c57-4e5d-825d-33ee595eeb0d",
   "metadata": {},
   "source": [
    "## 2. Load Dataset"
   ]
  },
  {
   "cell_type": "code",
   "execution_count": null,
   "id": "b26c08c8-6a98-47be-bef5-200d47bd706e",
   "metadata": {},
   "outputs": [],
   "source": [
    "from tensorflow.keras import datasets\n",
    "(x_train, y_train), (x_test, y_test) = datasets.cifar10.load_data()\n",
    "\n",
    "print(\"{} train samples and {} test samples\\n\".format(len(x_train), len(x_test)))\n",
    "print(\"train samples shape:\", x_train.shape)\n",
    "print(\"train labels shape:\", y_train.shape)"
   ]
  },
  {
   "cell_type": "markdown",
   "id": "df19f057-19cf-4fbf-bede-4239576ff114",
   "metadata": {},
   "source": [
    "## 3. Map Class Number to Class Name"
   ]
  },
  {
   "cell_type": "code",
   "execution_count": null,
   "id": "10891697",
   "metadata": {},
   "outputs": [],
   "source": [
    "class_names = {\n",
    "    0: 'airplane',\n",
    "    1: 'automobile',\n",
    "    2: 'bird',\n",
    "    3: 'cat',\n",
    "    4: 'deer',\n",
    "    5: 'dog',\n",
    "    6: 'frog',\n",
    "    7: 'horse',\n",
    "    8: 'ship',\n",
    "    9: 'truck',\n",
    "}"
   ]
  },
  {
   "cell_type": "markdown",
   "id": "8a2760ca-cb6f-4b8f-a20a-53a56902473c",
   "metadata": {},
   "source": [
    "## 4. Plot Samples Along with Their Class Names"
   ]
  },
  {
   "cell_type": "code",
   "execution_count": null,
   "id": "7c4197a3",
   "metadata": {},
   "outputs": [],
   "source": [
    "# select a random set of 9 images\n",
    "idx = np.random.randint(len(x_train) - 9)\n",
    "\n",
    "plt.figure(figsize=(10,10))\n",
    "for i in range(9):\n",
    "    # plot each sample\n",
    "    plt.subplot(3, 3, i+1)   \n",
    "    plt.imshow(x_train[i + idx]) \n",
    "    plt.xlabel(class_names[(y_train[i + idx][0])])\n",
    "\n",
    "# display results\n",
    "plt.show()"
   ]
  },
  {
   "cell_type": "markdown",
   "id": "c00307b7-e44e-43dc-8dc6-1eaf22358346",
   "metadata": {},
   "source": [
    "## 5. Normalize Samples"
   ]
  },
  {
   "cell_type": "code",
   "execution_count": null,
   "id": "f586a6c5",
   "metadata": {},
   "outputs": [],
   "source": [
    "# pixel values before normalization\n",
    "print(\"before normalization:\\n\", x_train[0][0][0])"
   ]
  },
  {
   "cell_type": "code",
   "execution_count": null,
   "id": "5549f37a-fe8b-4bd2-b367-ba5f19cbf0d8",
   "metadata": {},
   "outputs": [],
   "source": [
    "# normalize pixel values\n",
    "x_train = x_train / 255.\n",
    "x_test = x_test / 255.\n",
    "# pixel values after normalization\n",
    "print(\"after normalization:\\n\", x_train[0][0][0])"
   ]
  },
  {
   "cell_type": "markdown",
   "id": "6b3a7a90-da64-4fa7-aa56-bd93b32fd55a",
   "metadata": {},
   "source": [
    "## 6. One Hot Encode Labels"
   ]
  },
  {
   "cell_type": "code",
   "execution_count": null,
   "id": "abaea199-6554-495a-bf3f-2faf984007b7",
   "metadata": {},
   "outputs": [],
   "source": [
    "# label values before one hot encoding\n",
    "print(\"before one hot:\")\n",
    "print(\"class {} represents a {}\".format(y_train[0][0], class_names[y_train[0][0]]))"
   ]
  },
  {
   "cell_type": "code",
   "execution_count": null,
   "id": "5a3d6721",
   "metadata": {},
   "outputs": [],
   "source": [
    "from keras.utils import to_categorical\n",
    "\n",
    "# one hot encode labels\n",
    "y_train = to_categorical(y_train)\n",
    "y_test = to_categorical(y_test)\n",
    "\n",
    "# label values after one hot encoding\n",
    "print(\"after one hot:\")\n",
    "print(\"class {} represents a {}\".format(y_train[0], class_names[np.argmax(y_train[0])]))"
   ]
  },
  {
   "cell_type": "markdown",
   "id": "7b675084-ee4c-41ab-8314-b31cfdf91053",
   "metadata": {},
   "source": [
    "## 7. Define Neural Network"
   ]
  },
  {
   "cell_type": "code",
   "execution_count": null,
   "id": "4b6bb167",
   "metadata": {},
   "outputs": [],
   "source": [
    "from tensorflow.keras import Sequential, layers\n",
    "\n",
    "def build_model():\n",
    "    model = Sequential()\n",
    "    model.add(layers.Conv2D(32, 3, activation='relu', padding='same', input_shape=(32, 32, 3)))\n",
    "    model.add(layers.MaxPooling2D(pool_size=(2,2))) \n",
    "    model.add(layers.Conv2D(32, 5, activation='relu', padding='same'))\n",
    "    model.add(layers.MaxPooling2D(pool_size=(2,2)))  \n",
    "    model.add(layers.Flatten())\n",
    "    model.add(layers.Dense(64, activation='relu'))\n",
    "    model.add(layers.Dense(10))\n",
    "    model.add(layers.Softmax())\n",
    "    \n",
    "    model.compile(\n",
    "        optimizer ='adam',\n",
    "        loss = 'categorical_crossentropy',\n",
    "        metrics = ['accuracy'])\n",
    "    return model"
   ]
  },
  {
   "cell_type": "code",
   "execution_count": null,
   "id": "ef14dc72-3724-4f63-a812-8443fd9e1149",
   "metadata": {},
   "outputs": [],
   "source": [
    "# create model\n",
    "model = build_model()\n",
    "# see model details\n",
    "model.summary()"
   ]
  },
  {
   "cell_type": "markdown",
   "id": "6329af3d-9508-49bc-b7ca-5dafd781768e",
   "metadata": {},
   "source": [
    "## 8. Train Model\n",
    "\n",
    "### 8.1 Perform Training"
   ]
  },
  {
   "cell_type": "code",
   "execution_count": null,
   "id": "57d77528",
   "metadata": {},
   "outputs": [],
   "source": [
    "%%time\n",
    "# train model\n",
    "history = model.fit(x_train, y_train, epochs=10)\n",
    "# save model to file\n",
    "model.save('baseline.keras')\n",
    "\n",
    "# access metrics from training history\n",
    "print(\"\\ninitial accuracy: {} | latest accuracy: {}\".format(history.history[\"accuracy\"][0], history.history[\"accuracy\"][-1]))\n",
    "print(\"initial loss: {} | latest loss: {}\".format(history.history[\"loss\"][0], history.history[\"loss\"][-1]))"
   ]
  },
  {
   "cell_type": "markdown",
   "id": "9c76b23e-96a6-48e9-899c-c48820037378",
   "metadata": {},
   "source": [
    "### 8.2 Plot Training Results"
   ]
  },
  {
   "cell_type": "code",
   "execution_count": null,
   "id": "43219542-ce8b-4eac-bce5-ef632fad0fa7",
   "metadata": {},
   "outputs": [],
   "source": [
    "fig, axis = plt.subplots(1, 2, figsize=(10,4)) \n",
    "# plot accuracy\n",
    "axis[0].plot(history.history[\"accuracy\"])\n",
    "axis[0].set_title(\"accuracy over epochs\")\n",
    "# plot loss\n",
    "axis[1].plot(history.history[\"loss\"])\n",
    "axis[1].set_title(\"loss over epochs\")\n",
    "plt.show()"
   ]
  },
  {
   "cell_type": "markdown",
   "id": "71a40de7-b436-4851-ac52-ce576ba543b5",
   "metadata": {},
   "source": [
    "## 9. Test Model\n",
    "\n",
    "### 9.1 Evaluation on Test Set"
   ]
  },
  {
   "cell_type": "code",
   "execution_count": null,
   "id": "72c96ed6-1435-477c-a972-de2df1675afb",
   "metadata": {},
   "outputs": [],
   "source": [
    "test_loss, test_acc = model.evaluate(x_test, y_test, verbose=2)\n",
    "print('\\ntest accuracy score:', test_acc)"
   ]
  },
  {
   "cell_type": "markdown",
   "id": "5d0bc008-0813-4d7f-a83a-849cd6879745",
   "metadata": {},
   "source": [
    "### 9.2 Fetch Predictions for Every Sample"
   ]
  },
  {
   "cell_type": "code",
   "execution_count": null,
   "id": "773c27e0-637f-456a-b31f-c5888810bc97",
   "metadata": {},
   "outputs": [],
   "source": [
    "predictions = model.predict(x_test)\n",
    "# fetch probabilities for each class\n",
    "print(\"\\nprediction probabilities per class:\\n\", predictions[0])\n",
    "# fetch class with the highest probability\n",
    "print(\"\\npredicted class:\", np.argmax(predictions[0]))\n",
    "print(\"actual class:\", np.argmax(y_test[0]))\n",
    "# fetch readable class name\n",
    "print(\"predicted class name:\", class_names[np.argmax(predictions[0])])\n",
    "# compare with original label\n",
    "print(\"actual class name:\", class_names[np.argmax(y_test[0])])"
   ]
  },
  {
   "cell_type": "markdown",
   "id": "dc515d3e-9cc4-4867-b122-85678a01fc0e",
   "metadata": {},
   "source": [
    "### 9.3 Plot Predictions"
   ]
  },
  {
   "cell_type": "code",
   "execution_count": null,
   "id": "1dc6f0f7",
   "metadata": {},
   "outputs": [],
   "source": [
    "# select a random set of 9 test images\n",
    "idx = np.random.randint(len(x_test) - 9)\n",
    "\n",
    "plt.figure(figsize=(10,10))\n",
    "for i in range(9):\n",
    "    # plot each test image along with its prediction\n",
    "    plt.subplot(3, 3, i+1)   \n",
    "    plt.imshow(x_test[i + idx]) \n",
    "    plt.xlabel(\"pred: {} | actual: {}\\n\".format(class_names[np.argmax(predictions[i + idx])], class_names[np.argmax(y_test[i + idx])]))\n",
    "\n",
    "# display results\n",
    "plt.show()"
   ]
  },
  {
   "cell_type": "code",
   "execution_count": null,
   "id": "704034dd-7b64-46d8-ac2d-d94370fb93f2",
   "metadata": {},
   "outputs": [],
   "source": []
  }
 ],
 "metadata": {
  "kernelspec": {
   "display_name": "Python 3 (ipykernel)",
   "language": "python",
   "name": "python3"
  },
  "language_info": {
   "codemirror_mode": {
    "name": "ipython",
    "version": 3
   },
   "file_extension": ".py",
   "mimetype": "text/x-python",
   "name": "python",
   "nbconvert_exporter": "python",
   "pygments_lexer": "ipython3",
   "version": "3.12.4"
  }
 },
 "nbformat": 4,
 "nbformat_minor": 5
}
